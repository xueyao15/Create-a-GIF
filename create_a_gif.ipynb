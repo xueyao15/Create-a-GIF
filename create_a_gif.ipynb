{
 "cells": [
  {
   "cell_type": "code",
   "execution_count": 1,
   "metadata": {},
   "outputs": [
    {
     "name": "stdout",
     "output_type": "stream",
     "text": [
      "Collecting imageio"
     ]
    },
    {
     "name": "stderr",
     "output_type": "stream",
     "text": [
      "\n",
      "[notice] A new release of pip is available: 23.2.1 -> 24.0\n",
      "[notice] To update, run: python.exe -m pip install --upgrade pip\n"
     ]
    },
    {
     "name": "stdout",
     "output_type": "stream",
     "text": [
      "\n",
      "  Obtaining dependency information for imageio from https://files.pythonhosted.org/packages/02/25/66533a8390e3763cf8254dee143dbf8a830391ea60d2762512ba7f9ddfbe/imageio-2.34.0-py3-none-any.whl.metadata\n",
      "  Downloading imageio-2.34.0-py3-none-any.whl.metadata (4.9 kB)\n",
      "Requirement already satisfied: numpy in c:\\users\\patty\\appdata\\local\\programs\\python\\python310\\lib\\site-packages (from imageio) (1.26.2)\n",
      "Requirement already satisfied: pillow>=8.3.2 in c:\\users\\patty\\appdata\\local\\programs\\python\\python310\\lib\\site-packages (from imageio) (9.4.0)\n",
      "Downloading imageio-2.34.0-py3-none-any.whl (313 kB)\n",
      "   ---------------------------------------- 0.0/313.4 kB ? eta -:--:--\n",
      "   ---------------------------------------- 0.0/313.4 kB ? eta -:--:--\n",
      "   --- ----------------------------------- 30.7/313.4 kB 445.2 kB/s eta 0:00:01\n",
      "   ------- ------------------------------- 61.4/313.4 kB 550.5 kB/s eta 0:00:01\n",
      "   ---------------------- ----------------- 174.1/313.4 kB 1.2 MB/s eta 0:00:01\n",
      "   -------------------------------- ------- 256.0/313.4 kB 1.3 MB/s eta 0:00:01\n",
      "   ---------------------------------------- 313.4/313.4 kB 1.3 MB/s eta 0:00:00\n",
      "Installing collected packages: imageio\n",
      "Successfully installed imageio-2.34.0\n"
     ]
    }
   ],
   "source": [
    "!pip install imageio"
   ]
  },
  {
   "cell_type": "code",
   "execution_count": 2,
   "metadata": {},
   "outputs": [],
   "source": [
    "import imageio.v3 as iio"
   ]
  },
  {
   "cell_type": "code",
   "execution_count": null,
   "metadata": {},
   "outputs": [],
   "source": [
    "filenames = ['1.jpg', '2.jpg']"
   ]
  },
  {
   "cell_type": "code",
   "execution_count": null,
   "metadata": {},
   "outputs": [],
   "source": []
  }
 ],
 "metadata": {
  "kernelspec": {
   "display_name": "Python 3",
   "language": "python",
   "name": "python3"
  },
  "language_info": {
   "codemirror_mode": {
    "name": "ipython",
    "version": 3
   },
   "file_extension": ".py",
   "mimetype": "text/x-python",
   "name": "python",
   "nbconvert_exporter": "python",
   "pygments_lexer": "ipython3",
   "version": "3.10.4"
  }
 },
 "nbformat": 4,
 "nbformat_minor": 2
}
